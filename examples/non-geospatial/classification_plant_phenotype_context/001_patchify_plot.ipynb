{
 "cells": [
  {
   "cell_type": "markdown",
   "metadata": {},
   "source": [
    "# Patchify and plot images"
   ]
  },
  {
   "cell_type": "markdown",
   "metadata": {},
   "source": [
    "Refer to [the installation section in README](https://github.com/Living-with-machines/MapReader#installation) to install `mapreader`."
   ]
  },
  {
   "cell_type": "code",
   "execution_count": null,
   "metadata": {},
   "outputs": [],
   "source": [
    "# solve issue with autocomplete\n",
    "%config Completer.use_jedi = False\n",
    "\n",
    "%load_ext autoreload\n",
    "%autoreload 2\n",
    "%matplotlib inline"
   ]
  },
  {
   "cell_type": "markdown",
   "metadata": {},
   "source": [
    "## Load images\n",
    "\n",
    "Example images taken from the openly accessible `CVPPP2014_LSV_training_data` dataset available from https://www.plant-phenotyping.org/datasets-download"
   ]
  },
  {
   "cell_type": "code",
   "execution_count": null,
   "metadata": {},
   "outputs": [],
   "source": [
    "from mapreader import loader\n",
    "path2images = \"./dataset/open_access_plant/*.png\"\n",
    "myimgs = loader(path2images)"
   ]
  },
  {
   "cell_type": "code",
   "execution_count": null,
   "metadata": {},
   "outputs": [],
   "source": [
    "# len() shows the total number of images currently read (or sliced, see below)\n",
    "print(f\"Number of images: {len(myimgs)}\")"
   ]
  },
  {
   "cell_type": "code",
   "execution_count": null,
   "metadata": {},
   "outputs": [],
   "source": [
    "# To get more information\n",
    "print(myimgs)"
   ]
  },
  {
   "cell_type": "markdown",
   "metadata": {},
   "source": [
    "## Plot sample images"
   ]
  },
  {
   "cell_type": "code",
   "execution_count": null,
   "metadata": {},
   "outputs": [],
   "source": [
    "myimgs.show_sample(num_samples=2, tree_level=\"parent\")"
   ]
  },
  {
   "cell_type": "markdown",
   "metadata": {},
   "source": [
    "## Show one image"
   ]
  },
  {
   "cell_type": "code",
   "execution_count": null,
   "metadata": {},
   "outputs": [],
   "source": [
    "# list of all images (and not patches)\n",
    "all_imgs = myimgs.list_parents()\n",
    "\n",
    "# list of all patches (i.e., patches)\n",
    "# all_patches = myimgs.list_children()\n",
    "\n",
    "myimgs.show(all_imgs[0], \n",
    "            tree_level=\"parent\", \n",
    "            # to change the resolution of the image for plotting\n",
    "            image_width_resolution=800)"
   ]
  },
  {
   "cell_type": "markdown",
   "metadata": {},
   "source": [
    "## Slice images"
   ]
  },
  {
   "cell_type": "code",
   "execution_count": null,
   "metadata": {
    "scrolled": false
   },
   "outputs": [],
   "source": [
    "# `method` can also be set to meters\n",
    "myimgs.sliceAll(path_save=\"./dataset/eg_slice_50_50\", \n",
    "                slice_size=50, # in pixels\n",
    "                square_cuts=False, \n",
    "                verbose=False,\n",
    "                method=\"pixel\")"
   ]
  },
  {
   "cell_type": "code",
   "execution_count": null,
   "metadata": {
    "scrolled": false
   },
   "outputs": [],
   "source": [
    "myimgs.show_sample(5, tree_level=\"child\")"
   ]
  },
  {
   "cell_type": "markdown",
   "metadata": {},
   "source": [
    "## Show one image and its patches"
   ]
  },
  {
   "cell_type": "code",
   "execution_count": null,
   "metadata": {},
   "outputs": [],
   "source": [
    "# List of all images\n",
    "all_imgs = list(myimgs.images[\"parent\"].keys())\n",
    "\n",
    "myimgs.show_par(all_imgs[0], \n",
    "                border=True, \n",
    "                plot_parent=True,\n",
    "                figsize=(15, 15))"
   ]
  },
  {
   "cell_type": "markdown",
   "metadata": {},
   "source": [
    "## Calculate mean and standard-deviation of pixel intensities\n",
    "\n",
    "`calc_pixel_stats` method can be used to calculate mean and standard-deviation of pixel intensities of each `child` (i.e., `patch`) in a `parent` image."
   ]
  },
  {
   "cell_type": "code",
   "execution_count": null,
   "metadata": {},
   "outputs": [],
   "source": [
    "# if parent_id=\"XXX\", only compute pixel stats for that parent\n",
    "myimgs.calc_pixel_stats()"
   ]
  },
  {
   "cell_type": "code",
   "execution_count": null,
   "metadata": {},
   "outputs": [],
   "source": [
    "imgs_pd, patches_pd = myimgs.convertImages(fmt=\"dataframe\")"
   ]
  },
  {
   "cell_type": "code",
   "execution_count": null,
   "metadata": {},
   "outputs": [],
   "source": [
    "imgs_pd.head()"
   ]
  },
  {
   "cell_type": "code",
   "execution_count": null,
   "metadata": {},
   "outputs": [],
   "source": [
    "patches_pd.head()"
   ]
  },
  {
   "cell_type": "code",
   "execution_count": null,
   "metadata": {},
   "outputs": [],
   "source": [
    "patches_pd[\"mean_pixel_RGB\"].mean()"
   ]
  },
  {
   "cell_type": "markdown",
   "metadata": {},
   "source": [
    "Now that we have calculated the mean and standard-deviation of pixel intensities, we can plot them using `showAll` method. Note that in the following cell, we only plot one image (`all_imgs[1]`):"
   ]
  },
  {
   "cell_type": "code",
   "execution_count": null,
   "metadata": {},
   "outputs": [],
   "source": [
    "# List of all images\n",
    "all_imgs = list(myimgs.images[\"parent\"].keys())\n",
    "\n",
    "# To plot the calculated means, use \n",
    "# value=\"mean_pixel\"\n",
    "myimgs.show_par(all_imgs[0], \n",
    "                value=\"mean_pixel_RGB\",\n",
    "                border=False,\n",
    "                plot_parent=True,\n",
    "                vmin=0.0, vmax=1.0, \n",
    "                figsize=(20, 20),\n",
    "                alpha=0.5, \n",
    "                colorbar=\"hot_r\")"
   ]
  },
  {
   "cell_type": "code",
   "execution_count": null,
   "metadata": {},
   "outputs": [],
   "source": []
  }
 ],
 "metadata": {
  "kernelspec": {
   "display_name": "Python 3 (ipykernel)",
   "language": "python",
   "name": "python3"
  },
  "language_info": {
   "codemirror_mode": {
    "name": "ipython",
    "version": 3
   },
   "file_extension": ".py",
   "mimetype": "text/x-python",
   "name": "python",
   "nbconvert_exporter": "python",
   "pygments_lexer": "ipython3",
   "version": "3.8.13"
  }
 },
 "nbformat": 4,
 "nbformat_minor": 2
}
